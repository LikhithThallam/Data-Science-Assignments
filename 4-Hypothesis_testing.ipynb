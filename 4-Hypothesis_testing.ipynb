{
 "cells": [
  {
   "cell_type": "markdown",
   "id": "6d02b6e2-c6c6-4d2e-93ea-04ab4bfe0e0b",
   "metadata": {},
   "source": [
    "## HYPOTHESIS TESTING"
   ]
  },
  {
   "cell_type": "code",
   "execution_count": 7,
   "id": "daeb3a1f-257a-44e8-91df-b697ca04dd4a",
   "metadata": {},
   "outputs": [],
   "source": [
    "import scipy.stats as st\n",
    "import numpy as np"
   ]
  },
  {
   "cell_type": "code",
   "execution_count": 8,
   "id": "73aef68d-21b5-4088-9581-92d074284b78",
   "metadata": {},
   "outputs": [],
   "source": [
    "# Defineing the observed data\n",
    "samp = 25  \n",
    "sam_mean = 3050\n",
    "x = 600\n",
    "pop_mean = 1000+5*x\n",
    "pop_std = 5*samp "
   ]
  },
  {
   "cell_type": "code",
   "execution_count": 11,
   "id": "034ae189-2b2b-460d-87bc-f393c29c3d57",
   "metadata": {},
   "outputs": [
    {
     "data": {
      "text/plain": [
       "1.6448536269514722"
      ]
     },
     "execution_count": 11,
     "metadata": {},
     "output_type": "execute_result"
    }
   ],
   "source": [
    "# calculating the Z-Critical \n",
    "z_crtl = st.norm.ppf(0.95)  \n",
    "z_crtl"
   ]
  },
  {
   "cell_type": "code",
   "execution_count": 13,
   "id": "6638ae5a-8189-4449-82c9-2bbdab00864e",
   "metadata": {},
   "outputs": [
    {
     "data": {
      "text/plain": [
       "-38.0"
      ]
     },
     "execution_count": 13,
     "metadata": {},
     "output_type": "execute_result"
    }
   ],
   "source": [
    "# calculating the Z score \n",
    "z_score = (sam_mean - pop_mean)/(pop_std/np.sqrt(samp))\n",
    "z_score"
   ]
  },
  {
   "cell_type": "code",
   "execution_count": 17,
   "id": "a82b3517-7fdb-4b4e-8dd6-1d0ec27d846a",
   "metadata": {},
   "outputs": [
    {
     "name": "stdout",
     "output_type": "stream",
     "text": [
      "It is null hypothesis :\n"
     ]
    }
   ],
   "source": [
    "# Finalizing the Result \n",
    "if z_score < z_crtl :\n",
    "    print(\"It is null hypothesis : \")\n",
    "else:\n",
    "    print(\"It is alternate hypothesis :\")"
   ]
  },
  {
   "cell_type": "markdown",
   "id": "ebcb4085-a518-459a-b16d-e0178f94885d",
   "metadata": {},
   "source": [
    "# CHI-SQUARE TEST"
   ]
  },
  {
   "cell_type": "code",
   "execution_count": 1,
   "id": "00f12bc6-c92d-4bc1-a3bd-97965c3eba15",
   "metadata": {},
   "outputs": [],
   "source": [
    "import numpy as np\n",
    "import scipy.stats as stats"
   ]
  },
  {
   "cell_type": "code",
   "execution_count": 2,
   "id": "4c23569b-7946-41a3-b2b3-f18b8a2268e0",
   "metadata": {},
   "outputs": [],
   "source": [
    "# Defineing the observed data\n",
    "observed = np.array([ [50, 70], [80, 100],[60, 90],[30, 50],[20, 50] ])"
   ]
  },
  {
   "cell_type": "code",
   "execution_count": 20,
   "id": "8d8a5016-31a5-4442-b44d-b28df3f389c0",
   "metadata": {},
   "outputs": [],
   "source": [
    "# Performing the Chi-Square test\n",
    "chi2_sqr, p, dof, expected = stats.chi2_contingency(observed)"
   ]
  },
  {
   "cell_type": "code",
   "execution_count": 21,
   "id": "bbc70caf-9d24-4e3c-a648-a1f1c9d8d6ba",
   "metadata": {},
   "outputs": [
    {
     "name": "stdout",
     "output_type": "stream",
     "text": [
      "Chi-Sqr: 5.638227513227513\n",
      "P-Value: 0.22784371130697179\n",
      "Degrees of Freedom: 4\n",
      "Expected Frequencies:\n",
      " [[ 48.  72.]\n",
      " [ 72. 108.]\n",
      " [ 60.  90.]\n",
      " [ 32.  48.]\n",
      " [ 28.  42.]]\n"
     ]
    }
   ],
   "source": [
    "# Printing results\n",
    "print(\"Chi-Sqr:\", chi2_stat)\n",
    "print(\"P-Value:\", p)\n",
    "print(\"Degrees of Freedom:\", dof)\n",
    "print(\"Expected Frequencies:\\n\", expected)"
   ]
  },
  {
   "cell_type": "code",
   "execution_count": 23,
   "id": "17488593-9601-4fab-ad7b-da298a4bf527",
   "metadata": {},
   "outputs": [
    {
     "name": "stdout",
     "output_type": "stream",
     "text": [
      "It is the null hypothesis :\n"
     ]
    }
   ],
   "source": [
    "# results\n",
    "alpha = 0.05\n",
    "if p_value > alpha:\n",
    "    print(\"It is the null hypothesis : Both are Independent.\")\n",
    "else:\n",
    "    print(\"It is alternate hypothesis : Ther are associated each other.\")\n"
   ]
  },
  {
   "cell_type": "code",
   "execution_count": null,
   "id": "af85ee18-be40-4d37-996b-f909389b776d",
   "metadata": {},
   "outputs": [],
   "source": []
  },
  {
   "cell_type": "code",
   "execution_count": null,
   "id": "df6b3d92-7083-4467-93ef-27972df571a0",
   "metadata": {},
   "outputs": [],
   "source": []
  }
 ],
 "metadata": {
  "kernelspec": {
   "display_name": "Python 3 (ipykernel)",
   "language": "python",
   "name": "python3"
  },
  "language_info": {
   "codemirror_mode": {
    "name": "ipython",
    "version": 3
   },
   "file_extension": ".py",
   "mimetype": "text/x-python",
   "name": "python",
   "nbconvert_exporter": "python",
   "pygments_lexer": "ipython3",
   "version": "3.12.7"
  }
 },
 "nbformat": 4,
 "nbformat_minor": 5
}
