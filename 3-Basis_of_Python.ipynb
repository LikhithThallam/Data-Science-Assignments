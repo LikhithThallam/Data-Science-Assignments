{
 "cells": [
  {
   "cell_type": "markdown",
   "id": "1749f722-9bf0-4526-9f5d-546cf8f6b00d",
   "metadata": {},
   "source": [
    "## Exercise 1: Prime Numbers"
   ]
  },
  {
   "cell_type": "code",
   "execution_count": 1,
   "id": "2e386a55-42c4-49a0-95e2-749f634c6d2c",
   "metadata": {},
   "outputs": [],
   "source": [
    "def is_prime(num):\n",
    "    if num <= 1:\n",
    "        return False\n",
    "    for i in range(2, num):\n",
    "        if num % i == 0:\n",
    "            return False\n",
    "    return True"
   ]
  },
  {
   "cell_type": "code",
   "execution_count": 2,
   "id": "3a4005ee-5cef-4289-ac86-729db3439e2d",
   "metadata": {},
   "outputs": [
    {
     "name": "stdin",
     "output_type": "stream",
     "text": [
      "Enter the Number : 4\n"
     ]
    }
   ],
   "source": [
    "num = int(input(\"Enter the Number :\"))"
   ]
  },
  {
   "cell_type": "code",
   "execution_count": 3,
   "id": "a2d8545c-9c55-426a-aa90-17a58b7134b8",
   "metadata": {},
   "outputs": [
    {
     "name": "stdout",
     "output_type": "stream",
     "text": [
      "4 is Not Prime\n"
     ]
    }
   ],
   "source": [
    "if is_prime(num):\n",
    "    print(f\"{num} is Prime\")\n",
    "else :\n",
    "    print(f\"{num} is Not Prime\")\n",
    "    "
   ]
  },
  {
   "cell_type": "markdown",
   "id": "362d06bf-6a22-45d5-8e7d-38c4a294506b",
   "metadata": {},
   "source": [
    "## Exercise 2: Product of Random Numbers"
   ]
  },
  {
   "cell_type": "code",
   "execution_count": 3,
   "id": "383cb3fd-3edd-4c55-bbf2-76835016a676",
   "metadata": {},
   "outputs": [],
   "source": [
    "import random as rd"
   ]
  },
  {
   "cell_type": "code",
   "execution_count": 5,
   "id": "f4ab4355-3247-4f1e-8155-5aee188bc10a",
   "metadata": {},
   "outputs": [],
   "source": [
    "num1 = rd.randint(1,20)\n",
    "num2 = rd.randint(1,20)"
   ]
  },
  {
   "cell_type": "code",
   "execution_count": 6,
   "id": "6ea88740-a877-415f-a729-4df9f8065571",
   "metadata": {},
   "outputs": [],
   "source": [
    "crt_ans = num1*num2"
   ]
  },
  {
   "cell_type": "code",
   "execution_count": 7,
   "id": "26525801-a08a-4f43-8b45-31f799b1aed3",
   "metadata": {},
   "outputs": [
    {
     "name": "stdout",
     "output_type": "stream",
     "text": [
      "What is the product of 19 and 11\n"
     ]
    },
    {
     "name": "stdin",
     "output_type": "stream",
     "text": [
      "Your Answer : 23\n"
     ]
    }
   ],
   "source": [
    "print(f\"What is the product of {num1} and {num2}\")\n",
    "user_ans = input(\"Your Answer :\")"
   ]
  },
  {
   "cell_type": "code",
   "execution_count": 8,
   "id": "b6851489-0c37-4e31-8ada-cc6aeaac7003",
   "metadata": {},
   "outputs": [
    {
     "name": "stdout",
     "output_type": "stream",
     "text": [
      "Wrong\n"
     ]
    }
   ],
   "source": [
    "if user_ans == crt_ans :\n",
    "    print(\"Correct\")\n",
    "else :\n",
    "    print(\"Wrong\")"
   ]
  },
  {
   "cell_type": "markdown",
   "id": "3f0732b9-b7bd-47dc-b693-8bc626bdd3ea",
   "metadata": {},
   "source": [
    "## Exercise 3: Squares of Even/Odd Numbers"
   ]
  },
  {
   "cell_type": "code",
   "execution_count": 10,
   "id": "ea18c0cf-3e3c-45fb-ac1c-184bde59746a",
   "metadata": {},
   "outputs": [
    {
     "name": "stdout",
     "output_type": "stream",
     "text": [
      "The square of 100 is 10000\n",
      "The square of 102 is 10404\n",
      "The square of 104 is 10816\n",
      "The square of 106 is 11236\n",
      "The square of 108 is 11664\n",
      "The square of 110 is 12100\n",
      "The square of 112 is 12544\n",
      "The square of 114 is 12996\n",
      "The square of 116 is 13456\n",
      "The square of 118 is 13924\n",
      "The square of 120 is 14400\n",
      "The square of 122 is 14884\n",
      "The square of 124 is 15376\n",
      "The square of 126 is 15876\n",
      "The square of 128 is 16384\n",
      "The square of 130 is 16900\n",
      "The square of 132 is 17424\n",
      "The square of 134 is 17956\n",
      "The square of 136 is 18496\n",
      "The square of 138 is 19044\n",
      "The square of 140 is 19600\n",
      "The square of 142 is 20164\n",
      "The square of 144 is 20736\n",
      "The square of 146 is 21316\n",
      "The square of 148 is 21904\n",
      "The square of 150 is 22500\n",
      "The square of 152 is 23104\n",
      "The square of 154 is 23716\n",
      "The square of 156 is 24336\n",
      "The square of 158 is 24964\n",
      "The square of 160 is 25600\n",
      "The square of 162 is 26244\n",
      "The square of 164 is 26896\n",
      "The square of 166 is 27556\n",
      "The square of 168 is 28224\n",
      "The square of 170 is 28900\n",
      "The square of 172 is 29584\n",
      "The square of 174 is 30276\n",
      "The square of 176 is 30976\n",
      "The square of 178 is 31684\n",
      "The square of 180 is 32400\n",
      "The square of 182 is 33124\n",
      "The square of 184 is 33856\n",
      "The square of 186 is 34596\n",
      "The square of 188 is 35344\n",
      "The square of 190 is 36100\n",
      "The square of 192 is 36864\n",
      "The square of 194 is 37636\n",
      "The square of 196 is 38416\n",
      "The square of 198 is 39204\n",
      "The square of 200 is 40000\n"
     ]
    }
   ],
   "source": [
    "for number in range(100, 201):\n",
    "    if number % 2 == 0:\n",
    "        square = number ** 2 \n",
    "        print(f\"The square of {number} is {square}\")"
   ]
  },
  {
   "cell_type": "markdown",
   "id": "1606f923-e074-4887-af9d-22414406ba0c",
   "metadata": {},
   "source": [
    "## Exercise 4: Word counter"
   ]
  },
  {
   "cell_type": "code",
   "execution_count": 20,
   "id": "5049e637-344a-4318-bbbf-c62bf2b363d3",
   "metadata": {},
   "outputs": [
    {
     "name": "stdout",
     "output_type": "stream",
     "text": [
      "Number of words: 15\n"
     ]
    }
   ],
   "source": [
    "def count_words(input_text):\n",
    "    # Split the text into words based on spaces and return the length of the list\n",
    "    words = input_text.split()\n",
    "    return len(words)\n",
    "\n",
    "# Example input\n",
    "input_text = \"This is a sample text. This text will be used to demonstrate the word counter.\"\n",
    "\n",
    "# Counting words in the input text\n",
    "word_count = count_words(input_text)\n",
    "\n",
    "print(f\"Number of words: {word_count}\")\n"
   ]
  },
  {
   "cell_type": "code",
   "execution_count": 26,
   "id": "94d44b71-8d20-47ca-ad57-16aaddce7e19",
   "metadata": {},
   "outputs": [
    {
     "name": "stdout",
     "output_type": "stream",
     "text": [
      "15\n"
     ]
    }
   ],
   "source": [
    "text = \"This is a sample text. This text will be used to demonstrate the word counter.\"\n",
    "words = text.split()\n",
    "count = len(words)\n",
    "print(count)"
   ]
  },
  {
   "cell_type": "code",
   "execution_count": 22,
   "id": "74c4e3b1-4f14-4308-b3c2-7938c6225bbe",
   "metadata": {},
   "outputs": [
    {
     "name": "stdout",
     "output_type": "stream",
     "text": [
      "['This', 'is', 'a', 'sample', 'text.', 'This', 'text', 'will', 'be', 'used', 'to', 'demonstrate', 'the', 'word', 'counter.']\n"
     ]
    }
   ],
   "source": [
    "print(words)"
   ]
  },
  {
   "cell_type": "markdown",
   "id": "85102607-c668-4aa4-aef0-ae2369ec642a",
   "metadata": {},
   "source": [
    "## Exercise 5: Check for Palindrome"
   ]
  },
  {
   "cell_type": "code",
   "execution_count": 3,
   "id": "7de2d820-bd56-4764-8c0a-5b7d45dee7b0",
   "metadata": {},
   "outputs": [
    {
     "name": "stdin",
     "output_type": "stream",
     "text": [
      " racecar\n"
     ]
    },
    {
     "data": {
      "text/plain": [
       "'It is Palindrome'"
      ]
     },
     "execution_count": 3,
     "metadata": {},
     "output_type": "execute_result"
    }
   ],
   "source": [
    "def is_pal(a) :\n",
    "    b = a[::-1]\n",
    "    if a == b :\n",
    "        return \"It is Palindrome\"\n",
    "    else : \n",
    "        return \"It is not a Palindrome\"\n",
    "        \n",
    "a = input()\n",
    "is_pal(a)"
   ]
  },
  {
   "cell_type": "code",
   "execution_count": null,
   "id": "eaf3fc84-d7aa-4c46-a76e-10236298bdb4",
   "metadata": {},
   "outputs": [],
   "source": []
  }
 ],
 "metadata": {
  "kernelspec": {
   "display_name": "Python 3 (ipykernel)",
   "language": "python",
   "name": "python3"
  },
  "language_info": {
   "codemirror_mode": {
    "name": "ipython",
    "version": 3
   },
   "file_extension": ".py",
   "mimetype": "text/x-python",
   "name": "python",
   "nbconvert_exporter": "python",
   "pygments_lexer": "ipython3",
   "version": "3.12.7"
  }
 },
 "nbformat": 4,
 "nbformat_minor": 5
}
