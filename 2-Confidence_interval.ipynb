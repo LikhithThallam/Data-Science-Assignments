{
  "nbformat": 4,
  "nbformat_minor": 0,
  "metadata": {
    "colab": {
      "provenance": []
    },
    "kernelspec": {
      "name": "python3",
      "display_name": "Python 3"
    },
    "language_info": {
      "name": "python"
    }
  },
  "cells": [
    {
      "cell_type": "markdown",
      "source": [
        "#Confidence Interval"
      ],
      "metadata": {
        "id": "P0a6ptkPKj-m"
      }
    },
    {
      "cell_type": "code",
      "execution_count": null,
      "metadata": {
        "id": "IYy8dIJlC5q8"
      },
      "outputs": [],
      "source": [
        "import pandas as pd\n",
        "import numpy as np\n",
        "from scipy import stats"
      ]
    },
    {
      "cell_type": "code",
      "source": [
        "data = np.array([1.13, 1.55, 1.43, 0.92, 1.25, 1.36, 1.32, 0.85, 1.07, 1.48, 1.20, 1.33, 1.18, 1.22, 1.29])"
      ],
      "metadata": {
        "id": "omFf2XQODBvy"
      },
      "execution_count": null,
      "outputs": []
    },
    {
      "cell_type": "code",
      "source": [
        "x = data.mean()\n",
        "x"
      ],
      "metadata": {
        "colab": {
          "base_uri": "https://localhost:8080/"
        },
        "id": "sRfLy4tADONh",
        "outputId": "3c62ba7a-a689-4340-ba8e-0275d0876562"
      },
      "execution_count": null,
      "outputs": [
        {
          "output_type": "execute_result",
          "data": {
            "text/plain": [
              "1.2386666666666666"
            ]
          },
          "metadata": {},
          "execution_count": 22
        }
      ]
    },
    {
      "cell_type": "code",
      "source": [
        "std = data.std()\n",
        "std"
      ],
      "metadata": {
        "colab": {
          "base_uri": "https://localhost:8080/"
        },
        "id": "-1LN3jy6DbtY",
        "outputId": "e7d4a634-819e-4369-8c80-861dc41121ec"
      },
      "execution_count": null,
      "outputs": [
        {
          "output_type": "execute_result",
          "data": {
            "text/plain": [
              "0.18661427836285438"
            ]
          },
          "metadata": {},
          "execution_count": 23
        }
      ]
    },
    {
      "cell_type": "code",
      "source": [
        "n = len(data)\n",
        "n"
      ],
      "metadata": {
        "colab": {
          "base_uri": "https://localhost:8080/"
        },
        "id": "E1cEwjv9Dnmw",
        "outputId": "6508388b-246b-4fd5-9681-1b41c060ebcf"
      },
      "execution_count": null,
      "outputs": [
        {
          "output_type": "execute_result",
          "data": {
            "text/plain": [
              "15"
            ]
          },
          "metadata": {},
          "execution_count": 24
        }
      ]
    },
    {
      "cell_type": "markdown",
      "source": [
        "###T - test for CI"
      ],
      "metadata": {
        "id": "P2AdLFLrK249"
      }
    },
    {
      "cell_type": "code",
      "source": [
        "t = stats.t.ppf(0.99,n-1) # this is T value\n",
        "t"
      ],
      "metadata": {
        "colab": {
          "base_uri": "https://localhost:8080/"
        },
        "id": "2qHEo7tDEEmj",
        "outputId": "0f39afaf-b865-4f16-a8ed-8f3ebaf2c5e7"
      },
      "execution_count": null,
      "outputs": [
        {
          "output_type": "execute_result",
          "data": {
            "text/plain": [
              "2.624494067560231"
            ]
          },
          "metadata": {},
          "execution_count": 25
        }
      ]
    },
    {
      "cell_type": "code",
      "source": [
        "CI = stats.t.interval(0.99, n - 1, loc=x, scale=std / np.sqrt(n)) # or we can put values direclty \"CI = stats.t.interval(.99,14,1.23,0.18/np.sqrt(15))\"\n",
        "print(\"Confidence Interval for T test is:\",CI)"
      ],
      "metadata": {
        "colab": {
          "base_uri": "https://localhost:8080/"
        },
        "id": "nUv4gg9aE3Vb",
        "outputId": "806d0c5e-d43d-4025-bf2d-7c0c59dc801b"
      },
      "execution_count": null,
      "outputs": [
        {
          "output_type": "stream",
          "name": "stdout",
          "text": [
            "Confidence Interval for T test is: (1.0916488519860386, 1.3683511480139614)\n"
          ]
        }
      ]
    },
    {
      "cell_type": "markdown",
      "source": [
        "###Z - test for CI"
      ],
      "metadata": {
        "id": "Is4nK-eUKt2x"
      }
    },
    {
      "cell_type": "code",
      "source": [
        "z = stats.norm.ppf(.99) # This is Z value\n",
        "z"
      ],
      "metadata": {
        "colab": {
          "base_uri": "https://localhost:8080/"
        },
        "id": "Moga-7NJFRCo",
        "outputId": "991b0ee4-ba62-46de-b38a-c29efa9ec906"
      },
      "execution_count": null,
      "outputs": [
        {
          "output_type": "execute_result",
          "data": {
            "text/plain": [
              "2.3263478740408408"
            ]
          },
          "metadata": {},
          "execution_count": 27
        }
      ]
    },
    {
      "cell_type": "code",
      "source": [
        "pop_std = 0.2 # Population Stdve\n",
        "pop_std"
      ],
      "metadata": {
        "id": "JrmHs3hmPA-N",
        "colab": {
          "base_uri": "https://localhost:8080/"
        },
        "outputId": "2a83e7da-ab6d-4327-bab0-adc08f5deeef"
      },
      "execution_count": null,
      "outputs": [
        {
          "output_type": "execute_result",
          "data": {
            "text/plain": [
              "0.2"
            ]
          },
          "metadata": {},
          "execution_count": 40
        }
      ]
    },
    {
      "cell_type": "code",
      "source": [
        "CI = stats.norm.interval(0.99, loc=x, scale=pop_std / np.sqrt(n))\n",
        "print(\"Confidence Interval for Z test is:\",CI)"
      ],
      "metadata": {
        "colab": {
          "base_uri": "https://localhost:8080/"
        },
        "id": "pp2s9X44Gv_J",
        "outputId": "e28a2e6b-1ea2-4bc9-f833-d0f688b9a034"
      },
      "execution_count": null,
      "outputs": [
        {
          "output_type": "stream",
          "name": "stdout",
          "text": [
            "Confidence Interval for Z test is: (1.1056514133957607, 1.3716819199375725)\n"
          ]
        }
      ]
    },
    {
      "cell_type": "code",
      "source": [],
      "metadata": {
        "id": "IAk6T8L0Gx8v"
      },
      "execution_count": null,
      "outputs": []
    }
  ]
}